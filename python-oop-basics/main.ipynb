{
 "cells": [
  {
   "cell_type": "code",
   "execution_count": 2,
   "metadata": {},
   "outputs": [],
   "source": [
    "#implement Fryeelancer class\n",
    "class Freelancer:\n",
    "    counter=0\n",
    "    def __init__(self, name, skills, hourly_rate, availability=True):\n",
    "        self.name = name\n",
    "        self.skills = skills\n",
    "        self.hourly_rate = hourly_rate\n",
    "        self.availability = availability\n",
    "        Freelancer.counter+=1\n",
    "    def display_info(self):\n",
    "        print(f'I am {self.name},I am {self.availability}')\n",
    "        print(f'My skill is: {self.skills}')\n",
    "        print(f'My Hourly rate is : {self.hourly_rate}')"
   ]
  },
  {
   "cell_type": "code",
   "execution_count": 3,
   "metadata": {},
   "outputs": [],
   "source": [
    "f1=Freelancer(\n",
    "    \"Mennoun\",[\"python\",'Data Analysis','Machine Learning'],10,True\n",
    ")"
   ]
  },
  {
   "cell_type": "code",
   "execution_count": 4,
   "metadata": {},
   "outputs": [],
   "source": [
    "f2 = Freelancer(\n",
    "    \"John\", [\"Web Development\", \"JavaScript\", \"React\"], 15, False\n",
    ")\n",
    "\n",
    "f3 = Freelancer(\n",
    "    \"Alice\", [\"Graphic Design\", \"Adobe Illustrator\", \"Photoshop\"], 20, True\n",
    ")\n",
    "\n",
    "f4 = Freelancer(\n",
    "    \"Sam\", [\"Content Writing\", \"Copywriting\", \"SEO\"], 12, True\n",
    ")\n",
    "\n",
    "f5 = Freelancer(\n",
    "    \"Emily\", [\"Social Media Marketing\", \"Content Creation\"], 18, False\n",
    ")"
   ]
  },
  {
   "cell_type": "code",
   "execution_count": 5,
   "metadata": {},
   "outputs": [
    {
     "data": {
      "text/plain": [
       "5"
      ]
     },
     "execution_count": 5,
     "metadata": {},
     "output_type": "execute_result"
    }
   ],
   "source": [
    "f1.counter"
   ]
  },
  {
   "cell_type": "code",
   "execution_count": null,
   "metadata": {},
   "outputs": [],
   "source": []
  }
 ],
 "metadata": {
  "kernelspec": {
   "display_name": "Python 3",
   "language": "python",
   "name": "python3"
  },
  "language_info": {
   "codemirror_mode": {
    "name": "ipython",
    "version": 3
   },
   "file_extension": ".py",
   "mimetype": "text/x-python",
   "name": "python",
   "nbconvert_exporter": "python",
   "pygments_lexer": "ipython3",
   "version": "3.10.13"
  }
 },
 "nbformat": 4,
 "nbformat_minor": 2
}
