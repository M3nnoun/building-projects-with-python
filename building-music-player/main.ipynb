{
 "cells": [
  {
   "cell_type": "code",
   "execution_count": 1,
   "id": "66a86deb-7965-4922-b31a-9b7dcc2ca10b",
   "metadata": {},
   "outputs": [
    {
     "name": "stdout",
     "output_type": "stream",
     "text": [
      "pygame 2.5.2 (SDL 2.28.3, Python 3.8.9)\n",
      "Hello from the pygame community. https://www.pygame.org/contribute.html\n"
     ]
    }
   ],
   "source": [
    "from pygame import mixer"
   ]
  },
  {
   "cell_type": "code",
   "execution_count": 3,
   "id": "bf7c20ca-3c80-4ffd-8fa9-baf6f581c671",
   "metadata": {},
   "outputs": [],
   "source": [
    "#mixer use to loud play a music ,voice filr\n",
    "mixer.init()"
   ]
  },
  {
   "cell_type": "code",
   "execution_count": 28,
   "id": "6393516f-6752-4b44-81bb-fb201cbbe850",
   "metadata": {},
   "outputs": [],
   "source": [
    "music_file='Eminem.mp3'\n",
    "mixer.music.load(music_file)"
   ]
  },
  {
   "cell_type": "code",
   "execution_count": 29,
   "id": "4d04ce84-700d-4543-8ebf-da2f46315afa",
   "metadata": {},
   "outputs": [],
   "source": [
    "mixer.music.play()"
   ]
  },
  {
   "cell_type": "code",
   "execution_count": 30,
   "id": "bf35e831-6abe-4e5d-8718-634b7615303a",
   "metadata": {},
   "outputs": [],
   "source": [
    "mixer.music.pause()"
   ]
  },
  {
   "cell_type": "code",
   "execution_count": 31,
   "id": "ba53aa1b-932e-469c-89e2-3166fbbf4ac3",
   "metadata": {},
   "outputs": [
    {
     "data": {
      "text/plain": [
       "1.0"
      ]
     },
     "execution_count": 31,
     "metadata": {},
     "output_type": "execute_result"
    }
   ],
   "source": [
    "mixer.music.get_volume()"
   ]
  },
  {
   "cell_type": "code",
   "execution_count": 37,
   "id": "65a3809e-bd1c-4aa5-b242-ed7c06dd10e8",
   "metadata": {},
   "outputs": [
    {
     "data": {
      "text/plain": [
       "0.4"
      ]
     },
     "execution_count": 37,
     "metadata": {},
     "output_type": "execute_result"
    }
   ],
   "source": [
    "volume=0.5\n",
    "mixer.music.set_volume.conjugate()"
   ]
  },
  {
   "cell_type": "code",
   "execution_count": 2,
   "id": "ae21bfc1-14c7-40f1-b84a-71de7ff0d144",
   "metadata": {},
   "outputs": [],
   "source": [
    "from tkinter import *\n",
    "from tkinter import filedialog\n",
    "from pygame import mixer\n"
   ]
  },
  {
   "cell_type": "code",
   "execution_count": 6,
   "id": "47d19301-408c-4645-843b-451d8a316fca",
   "metadata": {},
   "outputs": [],
   "source": [
    "from tkinter import Tk, Button, filedialog\n",
    "from pygame import mixer\n",
    "\n",
    "class Player:\n",
    "    def __init__(self, window):\n",
    "        window.geometry('320x100')\n",
    "        window.title('Python Tiny Player')\n",
    "        window.resizable(0, 0)\n",
    "    \n",
    "        Load = Button(window, text='Load', width=10, font=('Times', 10), command=self.load)\n",
    "        Play = Button(window, text='Play', width=10, font=('Times', 10), command=self.play)\n",
    "        Pause = Button(window, text='Pause', width=10, font=('Times', 10), command=self.pause)\n",
    "        Stop = Button(window, text='Stop', width=10, font=('Times', 10), command=self.stop)\n",
    "    \n",
    "        Load.place(x=0, y=20)\n",
    "        Play.place(x=110, y=20)\n",
    "        Pause.place(x=220, y=20)\n",
    "        Stop.place(x=110, y=60)\n",
    "    \n",
    "        self.music_file = False\n",
    "        self.playing_state = False\n",
    "    \n",
    "    def load(self):\n",
    "        self.music_file = filedialog.askopenfilename()\n",
    "        #filedialog.quit()\n",
    "    \n",
    "    def play(self):\n",
    "        if self.music_file:\n",
    "            mixer.init()\n",
    "            mixer.music.load(self.music_file)\n",
    "            mixer.music.play()\n",
    "            self.playing_state = True\n",
    "    \n",
    "    def pause(self):\n",
    "        if self.playing_state:\n",
    "            mixer.music.pause()\n",
    "            self.playing_state = False\n",
    "        else:\n",
    "            mixer.music.unpause()\n",
    "            self.playing_state = True\n",
    "    \n",
    "    def stop(self):\n",
    "        mixer.music.stop()\n",
    "        self.playing_state = False"
   ]
  },
  {
   "cell_type": "code",
   "execution_count": 7,
   "id": "ad7a72dd-9a9b-4ab9-b83c-25f1b4c0ab7c",
   "metadata": {},
   "outputs": [],
   "source": [
    "root=Tk()\n",
    "player_app=Player(root)\n",
    "root.mainloop()"
   ]
  },
  {
   "cell_type": "code",
   "execution_count": null,
   "id": "fee0dda3-deec-462a-bc6f-0700e0584bec",
   "metadata": {},
   "outputs": [],
   "source": []
  }
 ],
 "metadata": {
  "kernelspec": {
   "display_name": "Python 3 (ipykernel)",
   "language": "python",
   "name": "python3"
  },
  "language_info": {
   "codemirror_mode": {
    "name": "ipython",
    "version": 3
   },
   "file_extension": ".py",
   "mimetype": "text/x-python",
   "name": "python",
   "nbconvert_exporter": "python",
   "pygments_lexer": "ipython3",
   "version": "3.8.9"
  }
 },
 "nbformat": 4,
 "nbformat_minor": 5
}
