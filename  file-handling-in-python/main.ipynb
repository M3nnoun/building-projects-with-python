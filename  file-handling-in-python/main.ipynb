{
 "cells": [
  {
   "cell_type": "markdown",
   "metadata": {},
   "source": [
    "# working with pickle files"
   ]
  },
  {
   "cell_type": "markdown",
   "metadata": {},
   "source": [
    "### “Pickling” is the process whereby a Python object hierarchy is converted into a byte stream, and “unpickling” is the inverse operation, whereby a byte stream (from a binary file or bytes-like object) is converted back into an object hierarchy.\n",
    "\n",
    "`filename.pkl` => file extention"
   ]
  },
  {
   "cell_type": "code",
   "execution_count": 21,
   "metadata": {},
   "outputs": [],
   "source": [
    "import pickle\n",
    "##create a object\n",
    "me={\n",
    "    'name':'Abdelfatah',\n",
    "    'age':'100',\n",
    "    'gender':'M',\n",
    "}\n",
    "# Pickling\n",
    "pickle.dump(me,open('me.pkl','wb'))"
   ]
  },
  {
   "cell_type": "code",
   "execution_count": 24,
   "metadata": {},
   "outputs": [],
   "source": [
    "# Unpickling\n",
    "me_from_pkl=pickle.load(open('me.pkl','rb'))"
   ]
  },
  {
   "cell_type": "code",
   "execution_count": 25,
   "metadata": {},
   "outputs": [
    {
     "data": {
      "text/plain": [
       "{'name': 'Abdelfatah', 'age': '100', 'gender': 'M'}"
      ]
     },
     "execution_count": 25,
     "metadata": {},
     "output_type": "execute_result"
    }
   ],
   "source": [
    "me_from_pkl"
   ]
  },
  {
   "cell_type": "markdown",
   "metadata": {},
   "source": [
    "# Working with CSV files"
   ]
  },
  {
   "cell_type": "code",
   "execution_count": 1,
   "metadata": {},
   "outputs": [],
   "source": [
    "import numpy as np"
   ]
  },
  {
   "cell_type": "code",
   "execution_count": 7,
   "metadata": {},
   "outputs": [
    {
     "data": {
      "text/plain": [
       "array([[0.21304065, 0.26438612, 0.64462331, 0.16745274],\n",
       "       [0.61540358, 0.26506715, 0.39006797, 0.7832801 ],\n",
       "       [0.47453576, 0.40499593, 0.90072009, 0.5508268 ],\n",
       "       [0.33567814, 0.94190462, 0.79422677, 0.18142176],\n",
       "       [0.20686753, 0.94643207, 0.14067586, 0.75886187],\n",
       "       [0.6874558 , 0.90610553, 0.01479744, 0.75513015],\n",
       "       [0.30168797, 0.49072802, 0.07475268, 0.91762893],\n",
       "       [0.26615662, 0.22496192, 0.02143804, 0.55329537],\n",
       "       [0.42434475, 0.7303067 , 0.87899555, 0.43597052],\n",
       "       [0.62704157, 0.36925506, 0.0714713 , 0.37192141],\n",
       "       [0.78205564, 0.35398562, 0.09854545, 0.65369247],\n",
       "       [0.6443332 , 0.01540605, 0.38679344, 0.76277121],\n",
       "       [0.2001192 , 0.68323572, 0.63270161, 0.67306668],\n",
       "       [0.02670009, 0.13140885, 0.77304312, 0.16959471],\n",
       "       [0.66652476, 0.00438954, 0.22973691, 0.01148133],\n",
       "       [0.85638238, 0.22691621, 0.72364394, 0.26855143],\n",
       "       [0.25385553, 0.59996697, 0.5599686 , 0.26300596],\n",
       "       [0.49406976, 0.90808739, 0.114369  , 0.8660909 ],\n",
       "       [0.01439768, 0.48044556, 0.73762551, 0.943478  ],\n",
       "       [0.57331375, 0.59878515, 0.56730015, 0.37764906],\n",
       "       [0.68190337, 0.22153909, 0.85557068, 0.28474493],\n",
       "       [0.07977721, 0.30264821, 0.07015779, 0.52450333],\n",
       "       [0.66709748, 0.74313206, 0.41293693, 0.44339212],\n",
       "       [0.69373385, 0.59257856, 0.54277161, 0.76030689],\n",
       "       [0.22926688, 0.95844945, 0.92364976, 0.66292147],\n",
       "       [0.31228621, 0.96225429, 0.77877335, 0.792934  ],\n",
       "       [0.44429896, 0.87791541, 0.17297294, 0.17521611],\n",
       "       [0.0838075 , 0.93384895, 0.45585865, 0.95631365],\n",
       "       [0.04979757, 0.19624159, 0.44515564, 0.63314761],\n",
       "       [0.30658936, 0.59996686, 0.31208413, 0.73105242],\n",
       "       [0.08714506, 0.38440231, 0.55825809, 0.30676001],\n",
       "       [0.37495203, 0.90549989, 0.03949114, 0.2001273 ],\n",
       "       [0.78086804, 0.0345221 , 0.13651514, 0.94573464],\n",
       "       [0.26237555, 0.65071247, 0.41608464, 0.669646  ],\n",
       "       [0.90268922, 0.21225722, 0.35765454, 0.94522863],\n",
       "       [0.0052053 , 0.86511741, 0.19154813, 0.98724466],\n",
       "       [0.54349244, 0.15699001, 0.41598039, 0.67722778],\n",
       "       [0.10088382, 0.05477238, 0.16602885, 0.56179585],\n",
       "       [0.71715715, 0.48795165, 0.81730275, 0.22108691],\n",
       "       [0.98759866, 0.56944515, 0.33794135, 0.05224095],\n",
       "       [0.26335714, 0.10809565, 0.36715925, 0.06682556],\n",
       "       [0.54696253, 0.3116631 , 0.45104842, 0.57594558],\n",
       "       [0.48350261, 0.52978015, 0.85519469, 0.62178404],\n",
       "       [0.32611019, 0.1581899 , 0.79355995, 0.90976693],\n",
       "       [0.48685536, 0.4853344 , 0.03077702, 0.99068903],\n",
       "       [0.32384533, 0.3618958 , 0.43191759, 0.33553742],\n",
       "       [0.5919862 , 0.01332279, 0.78822661, 0.4557464 ],\n",
       "       [0.52986534, 0.06695945, 0.6682118 , 0.4437079 ],\n",
       "       [0.2297816 , 0.04339068, 0.44754768, 0.11505956],\n",
       "       [0.94211892, 0.54113305, 0.652704  , 0.24346866]])"
      ]
     },
     "execution_count": 7,
     "metadata": {},
     "output_type": "execute_result"
    }
   ],
   "source": [
    "#generate random data\n",
    "data=np.random.random((50,4))\n",
    "data"
   ]
  },
  {
   "cell_type": "code",
   "execution_count": 8,
   "metadata": {},
   "outputs": [],
   "source": [
    "np.savetxt('data.csv',data,fmt='%.2f',delimiter='|',header='A|B|C|D')"
   ]
  },
  {
   "cell_type": "code",
   "execution_count": 18,
   "metadata": {},
   "outputs": [],
   "source": [
    "#louding the text from csv file:\n",
    "data_from_csv=np.loadtxt('data.csv',delimiter='|')"
   ]
  },
  {
   "cell_type": "code",
   "execution_count": 19,
   "metadata": {},
   "outputs": [
    {
     "data": {
      "text/plain": [
       "array([[0.49, 0.49, 0.03, 0.99],\n",
       "       [0.32, 0.36, 0.43, 0.34],\n",
       "       [0.59, 0.01, 0.79, 0.46],\n",
       "       [0.53, 0.07, 0.67, 0.44],\n",
       "       [0.23, 0.04, 0.45, 0.12]])"
      ]
     },
     "execution_count": 19,
     "metadata": {},
     "output_type": "execute_result"
    }
   ],
   "source": [
    "data_from_csv[-5:]"
   ]
  },
  {
   "cell_type": "markdown",
   "metadata": {},
   "source": [
    "# JSON Files"
   ]
  },
  {
   "cell_type": "code",
   "execution_count": 26,
   "metadata": {},
   "outputs": [],
   "source": [
    "import json"
   ]
  },
  {
   "cell_type": "code",
   "execution_count": 27,
   "metadata": {},
   "outputs": [],
   "source": [
    "freelancer  = {\n",
    "    \"name\": \"Abdefatah Mennoun\",\n",
    "    \"occupation\": \"Freelancer\",\n",
    "    \"skills\": [\"Python Development\", \"Data Analysis\", \"Machine Learning\"],\n",
    "    \"experience\": \"3 years\",\n",
    "    \"portfolio\": {\n",
    "        \"website\": \"www.abdefatahmennoun.com\",\n",
    "        \"github\": \"www.github.com/m3nnoun\",\n",
    "        \"linkedin\": \"https://www.linkedin.com/in/abdelfatah-mennoun/\"\n",
    "    },\n",
    "    \"rate\": \"$00/hour\",\n",
    "    \"availability\": \"Available for new projects\",\n",
    "    \"contact\": {\n",
    "        \"email\": \"mennoun.abdefatah@email.com\",\n",
    "        \"phone\": \"+212 775-341662\",\n",
    "        \"X\": \"@AbdelFat47\"\n",
    "    }\n",
    "}"
   ]
  },
  {
   "cell_type": "code",
   "execution_count": 28,
   "metadata": {},
   "outputs": [],
   "source": [
    "json.dump(freelancer,open('freelancer.json','w'))"
   ]
  },
  {
   "cell_type": "code",
   "execution_count": 29,
   "metadata": {},
   "outputs": [],
   "source": [
    "# loud the file\n",
    "freelancer_from_file=json.load(open('freelancer.json','r'))"
   ]
  },
  {
   "cell_type": "code",
   "execution_count": 30,
   "metadata": {},
   "outputs": [
    {
     "data": {
      "text/plain": [
       "{'name': 'Abdefatah Mennoun',\n",
       " 'occupation': 'Freelancer',\n",
       " 'skills': ['Python Development', 'Data Analysis', 'Machine Learning'],\n",
       " 'experience': '3 years',\n",
       " 'portfolio': {'website': 'www.abdefatahmennoun.com',\n",
       "  'github': 'www.github.com/m3nnoun',\n",
       "  'linkedin': 'https://www.linkedin.com/in/abdelfatah-mennoun/'},\n",
       " 'rate': '$00/hour',\n",
       " 'availability': 'Available for new projects',\n",
       " 'contact': {'email': 'mennoun.abdefatah@email.com',\n",
       "  'phone': '+212 775-341662',\n",
       "  'X': '@AbdelFat47'}}"
      ]
     },
     "execution_count": 30,
     "metadata": {},
     "output_type": "execute_result"
    }
   ],
   "source": [
    "freelancer_from_file"
   ]
  },
  {
   "cell_type": "code",
   "execution_count": null,
   "metadata": {},
   "outputs": [],
   "source": []
  }
 ],
 "metadata": {
  "kernelspec": {
   "display_name": "Python 3",
   "language": "python",
   "name": "python3"
  },
  "language_info": {
   "codemirror_mode": {
    "name": "ipython",
    "version": 3
   },
   "file_extension": ".py",
   "mimetype": "text/x-python",
   "name": "python",
   "nbconvert_exporter": "python",
   "pygments_lexer": "ipython3",
   "version": "3.10.13"
  }
 },
 "nbformat": 4,
 "nbformat_minor": 2
}
