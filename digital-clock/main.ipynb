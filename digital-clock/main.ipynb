{
 "cells": [
  {
   "cell_type": "code",
   "execution_count": 2,
   "metadata": {},
   "outputs": [],
   "source": [
    "from time import strftime\n",
    "from tkinter import Label,Tk"
   ]
  },
  {
   "cell_type": "code",
   "execution_count": null,
   "metadata": {},
   "outputs": [],
   "source": [
    "# creating the windows\n",
    "windows=Tk()\n",
    "windows.title('Clock')\n",
    "windows.geometry('200x80')\n",
    "windows.configure(bg='black')\n",
    "windows.resizable(False,False)\n",
    "#seting label\n",
    "label=Label(windows,bg='black',fg='white',font=('Times',30,'bold'),relief='flat')\n",
    "label.place(x=20,y=20)\n",
    "##Function to update the time:\n",
    "def update_label():\n",
    "    current_time=strftime('%H:%M:%S')\n",
    "    label.configure(text=current_time)\n",
    "    label.after(80,update_label)\n",
    "update_label()\n",
    "windows.mainloop()"
   ]
  }
 ],
 "metadata": {
  "kernelspec": {
   "display_name": "Python 3",
   "language": "python",
   "name": "python3"
  },
  "language_info": {
   "codemirror_mode": {
    "name": "ipython",
    "version": 3
   },
   "file_extension": ".py",
   "mimetype": "text/x-python",
   "name": "python",
   "nbconvert_exporter": "python",
   "pygments_lexer": "ipython3",
   "version": "3.10.13"
  }
 },
 "nbformat": 4,
 "nbformat_minor": 2
}
